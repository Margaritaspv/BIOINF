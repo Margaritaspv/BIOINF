{
 "cells": [
  {
   "cell_type": "markdown",
   "id": "dc2c28cc",
   "metadata": {},
   "source": [
    "### Pasos de Introducción:"
   ]
  },
  {
   "cell_type": "markdown",
   "id": "6664b9cb",
   "metadata": {},
   "source": [
    "1. Escoge un gen de tu interés que tenga estructura en el PDB: APP humano\n",
    "2. Guarda el archivo PDB: adjuntado\n",
    "3. Guarda la secuencia de nucleótidos del gen que has elegido: \n",
    "4. Busca 6 ortólogos diferentes de tu gen y extrae sus secuencias de nucléotidos.\n",
    "5. Crea un archivo multifasta: adjuntado (incluye paso 3 y 4)"
   ]
  },
  {
   "cell_type": "markdown",
   "id": "607a7a7f",
   "metadata": {},
   "source": [
    "### En el archivo MULTIFASTA:"
   ]
  },
  {
   "cell_type": "code",
   "execution_count": null,
   "id": "7a81098d",
   "metadata": {},
   "outputs": [],
   "source": [
    "#Extrae el número de secuencias que hay en el archivo --> 7\n",
    "grep -c '>' MULTIFASTA.fasta\n",
    "\n",
    "#Extrae el identificador de las secuencias\n",
    "grep -oE 'NM_[0-9]{9}\\.[0-9]|XM_[0-9]{9}\\.[0-9]' MULTIFASTA.fasta\n",
    "\n",
    "#Extrae el organismo de cada secuencia (está entre corchetes!)\n",
    "grep -oP '\\[.*?\\]' MULTIFASTA.fasta | sed 's/[][]//g'\n",
    "\n",
    "#Extrae las subsecuencias de tu archivo multifasta que empiecen por ATGC y que acaben por GTAA. \n",
    "#¿Hay alguna? --> SÍ\n",
    "grep -oP '(?s)ATGC.*?GTAA' MULTIFASTA.fasta\n",
    "\n",
    "#Las enzimas de restricción FokI, HphI y Tail unen las secuencias GGATG, GGTGA y ACGT. \n",
    "#¿Hay algún sitio de unión en tu archivo? Si hay, ¿cuántos son de cada una? \n",
    "#¿Puedes indicar en qué línea están cada uno?\n",
    "\n",
    "grep -o -c \"GGATG\" MULTIFASTA.fasta #Encuentra 68 resultados\n",
    "grep -o -c \"GGTGA\" MULTIFASTA.fasta #Encuentra 20 resultados\n",
    "grep -o -c \"ACGT\" MULTIFASTA.fasta  #Encuentra 49 resultados\n",
    "\n",
    "grep -n \"GGATG\\|GGTGA\\|ACGT\" MULTIFASTA.fasta #Distingue donde se encuentran #en la secuencia, \n",
    "                                              #y las líneas.\n"
   ]
  },
  {
   "cell_type": "markdown",
   "id": "4163ddb2",
   "metadata": {},
   "source": [
    "### En el archivo PDB:"
   ]
  },
  {
   "cell_type": "code",
   "execution_count": null,
   "id": "3825958b",
   "metadata": {},
   "outputs": [],
   "source": [
    "#¿Cuántas cadenas tiene tu proteína? --> Tiene 2 cadenas\n",
    "grep '^ATOM' PDB.pdb | awk '{print $5}' | sort | uniq | wc -l\n",
    "\n",
    "#Elimina todas las líneas que contenga información sobre puentes de hidrógeno. \n",
    "#Guarda en un archivo nuevo\n",
    "grep -v '^CONECT' PDB.pdb > nuevo.pdb\n",
    "\n",
    "#Cambia las PHE por ALA. Guarda en un archivo nuevo\n",
    "sed 's/PHE/ALA/g' PDB.pdb > nuevo2.pdb\n"
   ]
  }
 ],
 "metadata": {
  "kernelspec": {
   "display_name": "Python 3 (ipykernel)",
   "language": "python",
   "name": "python3"
  },
  "language_info": {
   "codemirror_mode": {
    "name": "ipython",
    "version": 3
   },
   "file_extension": ".py",
   "mimetype": "text/x-python",
   "name": "python",
   "nbconvert_exporter": "python",
   "pygments_lexer": "ipython3",
   "version": "3.11.5"
  }
 },
 "nbformat": 4,
 "nbformat_minor": 5
}
