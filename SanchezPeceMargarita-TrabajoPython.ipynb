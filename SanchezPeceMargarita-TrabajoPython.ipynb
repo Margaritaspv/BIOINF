{
 "cells": [
  {
   "cell_type": "markdown",
   "metadata": {},
   "source": [
    "# TRABAJO DE PYTHON\n",
    "\n",
    "### Este trabajo cuenta el 30% de la nota. La entrega será el 5 de Noviembre a las 23:59.\n",
    "\n",
    "### Resuelve los siguientes ejercicios en Python sin usar expresiones regulares\n",
    "\n",
    "#### Utiliza tantas celdas de código como necesites\n",
    "\n",
    "##\n",
    "\n",
    "\n",
    "\n",
    "\n",
    "\n",
    "\n",
    "\n"
   ]
  },
  {
   "cell_type": "markdown",
   "metadata": {},
   "source": [
    "### 1.- BUSCA LA SECUENCIA COMPLEMENTARIA\n",
    "#### Devuelve la secuencia complementaria de la siguiente secuencia de ADN"
   ]
  },
  {
   "cell_type": "code",
   "execution_count": 73,
   "metadata": {},
   "outputs": [],
   "source": [
    "my_dna = \"ACTGATCGATTACGTATAGTATTTGCTATCATACATATATATCGATGCGTTCAT\""
   ]
  },
  {
   "cell_type": "code",
   "execution_count": 74,
   "metadata": {},
   "outputs": [
    {
     "name": "stdout",
     "output_type": "stream",
     "text": [
      "TGACTAGCTAATGCATATCATAAACGATAGTATGTATATATAGCTACGCAAGTA\n"
     ]
    }
   ],
   "source": [
    "complemento_dna = \"\"\n",
    "\n",
    "for base in my_dna:\n",
    "    if base == 'A':\n",
    "        complemento_dna += 'T'\n",
    "    elif base == 'T':\n",
    "        complemento_dna += 'A'\n",
    "    elif base == 'C':\n",
    "        complemento_dna += 'G'\n",
    "    elif base == 'G':\n",
    "        complemento_dna += 'C'\n",
    "\n",
    "print(complemento_dna)"
   ]
  },
  {
   "cell_type": "markdown",
   "metadata": {},
   "source": [
    "##\n",
    "### 2.- FRAGMENTOS DE RESTRICCION\n",
    "#### Obtén los fragmentos de restricción de EcoRI, que tiene un sitio de corte en G*AATTC (la posición de corte se indica por el *).\n",
    "#### No uses expresiones regulares. \n",
    "#### Pista: utiliza la función find()"
   ]
  },
  {
   "cell_type": "code",
   "execution_count": 75,
   "metadata": {
    "scrolled": true
   },
   "outputs": [],
   "source": [
    "my_dna = \"ACTGATCGATTACGTATAGTATTTGCTATGAATTCCATACATATATATCGATGCGTTCAT\""
   ]
  },
  {
   "cell_type": "code",
   "execution_count": 76,
   "metadata": {},
   "outputs": [],
   "source": [
    "#Definimos la secuencia de corte EcoRI\n",
    "EcoRI = \"GAATTC\""
   ]
  },
  {
   "cell_type": "code",
   "execution_count": 77,
   "metadata": {},
   "outputs": [
    {
     "data": {
      "text/plain": [
       "30"
      ]
     },
     "execution_count": 77,
     "metadata": {},
     "output_type": "execute_result"
    }
   ],
   "source": [
    "# Para encontrar la posición de corte de EcoRI (G|AATTC) en nuestra secuencia DNA\n",
    "cut_position = my_dna.find(EcoRI)+1\n",
    "cut_position"
   ]
  },
  {
   "cell_type": "code",
   "execution_count": 78,
   "metadata": {},
   "outputs": [
    {
     "name": "stdout",
     "output_type": "stream",
     "text": [
      "Fragmento 1: ACTGATCGATTACGTATAGTATTTGCTATG\n",
      "Fragmento 2: AATTCCATACATATATATCGATGCGTTCAT\n"
     ]
    }
   ],
   "source": [
    "# Divide la cadena en fragmentos de restricción\n",
    "if cut_position != -1:\n",
    "    fragmento1 = my_dna[:cut_position]\n",
    "    fragmento2 = my_dna[cut_position:]\n",
    "\n",
    "    print(\"Fragmento 1:\", fragmento1)\n",
    "    print(\"Fragmento 2:\", fragmento2)\n",
    "else:\n",
    "    print(\"EcoRI no encontrado en la secuencia de ADN.\")"
   ]
  },
  {
   "cell_type": "markdown",
   "metadata": {},
   "source": [
    "##\n",
    "### 3.- ENCUENTRA LOS EXONES\n",
    "#### Encuentra los exones en la siguiente secuencia\n",
    "1. El primer exón va de la primera base a la base 63 (empieza a contar desde 0)\n",
    "2. El segundo exón va de la base 91 (contando desde 0) hasta el final\n",
    "3. Calcula el porcentaje de secuencia codificante\n",
    "4. Imprime en pantalla la secuencia original con los exones en mayúsculas y los intrones en minúsculas"
   ]
  },
  {
   "cell_type": "code",
   "execution_count": 79,
   "metadata": {},
   "outputs": [],
   "source": [
    "genomic_dna = \"ATCGATCGATCGATCGACTGACTAGTCATAGCTATGCATGTAGCTACTCGATCGATCGATCGATCGATCGATCGATCGATCGATCATGCTATCATCGATCGATATCGATGCATCGACTACTAT\""
   ]
  },
  {
   "cell_type": "code",
   "execution_count": 80,
   "metadata": {},
   "outputs": [
    {
     "data": {
      "text/plain": [
       "'ATCGATCGATCGATCGACTGACTAGTCATAGCTATGCATGTAGCTACTCGATCGATCGATCGA'"
      ]
     },
     "execution_count": 80,
     "metadata": {},
     "output_type": "execute_result"
    }
   ],
   "source": [
    "#El primer exón va de la primera base a la base 63 (empieza a contar desde 0):\n",
    "\n",
    "# Definir los límites del primer exón\n",
    "fin_exon1 = 62 #NO 63 porque empezamos en posición 0, la base 63 es la posición 62!\n",
    "\n",
    "# Extraer el primer exón\n",
    "exon1 = genomic_dna[:fin_exon1+1] #No debería hacer falta el +1 ya que debería incluirse, pero sino no da el largo por alguna razón\n",
    "exon1\n",
    "\n",
    "#Hacemos: len(exon1) para comprobar!"
   ]
  },
  {
   "cell_type": "code",
   "execution_count": 81,
   "metadata": {},
   "outputs": [
    {
     "data": {
      "text/plain": [
       "'ATCATCGATCGATATCGATGCATCGACTACTAT'"
      ]
     },
     "execution_count": 81,
     "metadata": {},
     "output_type": "execute_result"
    }
   ],
   "source": [
    "#El segundo exón va de la base 91 (contando desde 0) hasta el final\n",
    "\n",
    "# Definir los límites del primer exón\n",
    "inicio_exon2 = 90 #NO 91 porque empezamos en 0, no en 1!\n",
    "\n",
    "# Extraer el primer exón\n",
    "exon2 = genomic_dna[inicio_exon2:] \n",
    "exon2\n",
    "\n",
    "#Hacemos: len(exon2) para comprobar!"
   ]
  },
  {
   "cell_type": "code",
   "execution_count": 82,
   "metadata": {},
   "outputs": [
    {
     "data": {
      "text/plain": [
       "78.04878048780488"
      ]
     },
     "execution_count": 82,
     "metadata": {},
     "output_type": "execute_result"
    }
   ],
   "source": [
    "#Calcula el porcentaje de secuencia codificante = exones 1 y 2!\n",
    "\n",
    "porcentaje_codificante = (len(exon1) + len(exon2)) / len(genomic_dna) * 100\n",
    "porcentaje_codificante"
   ]
  },
  {
   "cell_type": "code",
   "execution_count": 83,
   "metadata": {},
   "outputs": [
    {
     "name": "stdout",
     "output_type": "stream",
     "text": [
      "ATCGATCGATCGATCGACTGACTAGTCATAGCTATGCATGTAGCTACTCGATCGATCGATCGAtcgatcgatcgatcgatcgatcatgcATCATCGATCGATATCGATGCATCGACTACTAT\n"
     ]
    }
   ],
   "source": [
    "#Definimos intron (en medio de exon 1 y 2)\n",
    "intron = genomic_dna[63:89].lower()\n",
    "#Imprime en pantalla la secuencia original con los exones en mayúsculas y los intrones en minúsculas\n",
    "print (exon1 + intron + exon2 )"
   ]
  },
  {
   "cell_type": "markdown",
   "metadata": {},
   "source": [
    "##\n",
    "### 4.- ESCRIBE UN ARCHIVO FASTA\n",
    "#### Escribe un archivo FASTA que tenga las siguientes secuencias:\n",
    "1. ABC123 \tATCGTACGATCGATCGATCGCTAGACGTATCG\n",
    "2. DEF456 \tactgatcgacgatcgatcgatcacgact\n",
    "3. HIJ789 \tACTGAC-ACTGT--ACTGTA----CATGTG\n",
    "\n",
    "###### *Ten en cuenta que todas las secuencias deben tener solo ATGC caracteres y tienen que estar en mayúsculas\n",
    "###### Recuerda que las secuencias en FASTA empiezan por una línea \">identificador\" y la siguiente línea tiene la secuencia\n",
    "\n",
    "###### >ABC123\n",
    "###### ATCGTACGATCGATCGATCGCTAGACGTATCG\n",
    "###### >DEF456\n",
    "###### ACTGATCGACGATCGATCGATCACGACT\n",
    "###### >HIJ789\n",
    "###### ACTGACACTGTACTGTACATGTG"
   ]
  },
  {
   "cell_type": "code",
   "execution_count": 2,
   "metadata": {},
   "outputs": [],
   "source": [
    "#Creamos el diccionario con nuestros encabezados-secuencias\n",
    "dict={\n",
    "    'ABC123' :'ATCGTACGATCGATCGATCGCTAGACGTATCG',\n",
    "    'DEF456' : 'actgatcgacgatcgatcgatcacgact',\n",
    "    'HIJ789' : 'ACTGAC-ACTGT--ACTGTA----CATGTG'\n",
    "}"
   ]
  },
  {
   "cell_type": "code",
   "execution_count": 3,
   "metadata": {},
   "outputs": [
    {
     "data": {
      "text/plain": [
       "{'>ABC123': 'ATCGTACGATCGATCGATCGCTAGACGTATCG',\n",
       " '>DEF456': 'ACTGATCGACGATCGATCGATCACGACT',\n",
       " '>HIJ789': 'ACTGACACTGTACTGTACATGTG'}"
      ]
     },
     "execution_count": 3,
     "metadata": {},
     "output_type": "execute_result"
    }
   ],
   "source": [
    "#Creaomos un diccionario vacío donde hacer los cambios\n",
    "dict_limpio = {}\n",
    "for encabezado, secuencia in dict.items():\n",
    "    #Las convertimos a mayúsculas\n",
    "    secuencia = secuencia.upper()\n",
    "    #Quitamos los caracteres innecesarios\n",
    "    secuencia_limpia = ''.join(caracter for caracter in secuencia if caracter in 'ATGC')\n",
    "    #Le añadimos \">\" al encabezado\n",
    "    dict_limpio[f\">{encabezado}\"] = secuencia_limpia\n",
    "dict_limpio"
   ]
  },
  {
   "cell_type": "code",
   "execution_count": 4,
   "metadata": {},
   "outputs": [
    {
     "name": "stdout",
     "output_type": "stream",
     "text": [
      ">ABC123\n",
      "ATCGTACGATCGATCGATCGCTAGACGTATCG\n",
      ">DEF456\n",
      "ACTGATCGACGATCGATCGATCACGACT\n",
      ">HIJ789\n",
      "ACTGACACTGTACTGTACATGTG\n"
     ]
    }
   ],
   "source": [
    "#Hacemos un loop para poder separarlo por filas\n",
    "for encabezado, secuencia in dict_limpio.items():\n",
    "    print(encabezado)\n",
    "    print(secuencia)"
   ]
  },
  {
   "cell_type": "code",
   "execution_count": 5,
   "metadata": {},
   "outputs": [],
   "source": [
    "#Una vez creado el contenido, creamos el archivo fasta y le metemos lo anterior\n",
    "with open(\"PythonFasta.fasta\", \"w\") as archivo:\n",
    "    for encabezado, secuencia in dict_limpio.items():\n",
    "        archivo.write(encabezado + \"\\n\")\n",
    "        archivo.write(secuencia + \"\\n\")"
   ]
  },
  {
   "cell_type": "markdown",
   "metadata": {},
   "source": [
    "##\n",
    "### 5.- ELIMINA ADAPTADORES\n",
    "#### El archivo input.txt tiene unas secuencias de ADN, una por línea. \n",
    "#### Todas las secuencias empiezan con el mismo adaptador que llega hasta la base 14. Escribe un programa que:\n",
    "1. Remueva el adaptador de la secuencia y escriba la secuencia limpia en un archivo\n",
    "2. Imprima en pantalla la longitud de cada secuencia limpia"
   ]
  },
  {
   "cell_type": "code",
   "execution_count": 14,
   "metadata": {},
   "outputs": [],
   "source": [
    "longitud_adaptador = 13 #Base 14 equivale a posición 13 pues contamos de 0"
   ]
  },
  {
   "cell_type": "code",
   "execution_count": 15,
   "metadata": {},
   "outputs": [],
   "source": [
    "# Abre el archivo de entrada en modo lectura\n",
    "with open('input.txt', 'r') as input_file:\n",
    "    # Lee todas las líneas del archivo\n",
    "    lineas = input_file.readlines()"
   ]
  },
  {
   "cell_type": "code",
   "execution_count": 20,
   "metadata": {},
   "outputs": [
    {
     "name": "stdout",
     "output_type": "stream",
     "text": [
      "Longitud de la secuencia limpia: 43\n",
      "TCGATCGATCGATCGATCGATCGATCGATCGATCGATCGATC\n",
      "\n",
      "Longitud de la secuencia limpia: 38\n",
      "ACTGATCGATCGATCGATCGATCGATGCTATCGTCGT\n",
      "\n",
      "Longitud de la secuencia limpia: 49\n",
      "ATCGATCACGATCTATCGTACGTATGCATATCGATATCGATCGTAGTC\n",
      "\n",
      "Longitud de la secuencia limpia: 34\n",
      "ACTATCGATGATCTAGCTACGATCGTAGCTGTA\n",
      "\n",
      "Longitud de la secuencia limpia: 47\n",
      "ACTAGCTAGTCTCGATGCATGATCAGCTTAGCTGATGATGCTATGCA\n"
     ]
    }
   ],
   "source": [
    "# Abre el archivo de entrada en modo escritura\n",
    "with open('input.txt', 'w') as input_file:\n",
    "    for linea in lineas:\n",
    "        # Quitamos el adaptador\n",
    "        secuencia = linea[longitud_adaptador+1:] #+1 para no incluir la ultima linea del adaptador\n",
    "\n",
    "        # Escribimos la secuencia limpia en el archivo\n",
    "        input_file.write(secuencia)\n",
    "\n",
    "        # Imprime la longitud de la secuencia limpia\n",
    "        print(f'Longitud de la secuencia limpia: {len(secuencia)}')\n",
    "        print(secuencia)"
   ]
  },
  {
   "cell_type": "code",
   "execution_count": 21,
   "metadata": {},
   "outputs": [],
   "source": [
    "mi_archivo.close()"
   ]
  },
  {
   "cell_type": "markdown",
   "metadata": {},
   "source": [
    "##\n",
    "### 6.- PORCENTAJE DE AMINO ACIDOS\n",
    "#### Escribe una función que tome dos argumentos: una secuencia de proteínas y un amino ácido. \n",
    "#### Queremos que devuelva el porcentaje del amino ácido en la secuencia de proteínas. \n",
    "#### Una vez que tengas hecha tu función, emplea las siguientes aserciones para comprobar tu código."
   ]
  },
  {
   "cell_type": "code",
   "execution_count": 94,
   "metadata": {},
   "outputs": [],
   "source": [
    "secuencia= \"MSRSLLLRFLLFLLLLPPLP\"\n",
    "aa= \"Y\""
   ]
  },
  {
   "cell_type": "code",
   "execution_count": 95,
   "metadata": {},
   "outputs": [
    {
     "name": "stdout",
     "output_type": "stream",
     "text": [
      "0.0\n"
     ]
    }
   ],
   "source": [
    "#Creamos la función que devuelva el porcentaje (aplicable a cualquier aa o secuencia)\n",
    "def funcion_prot_aa(secuencia, aa):\n",
    "    # Convertir la secuencia de proteínas y el aminoácido a mayúsculas para evitar distinciones de caso\n",
    "    secuencia = secuencia.upper()\n",
    "    aa = aa.upper()\n",
    "    # Contar la cantidad de veces que aparece el aminoácido en la secuencia\n",
    "    conteo_aa = secuencia.count(aa)\n",
    "    # Calcular el porcentaje\n",
    "    porcentaje = (conteo_aa / len(secuencia)) * 100\n",
    "    return (porcentaje)\n",
    "\n",
    "resultado = funcion_prot_aa(\"MSRSLLLRFLLFLLLLPPLP\", \"Y\")\n",
    "print(resultado)"
   ]
  },
  {
   "cell_type": "code",
   "execution_count": 96,
   "metadata": {},
   "outputs": [],
   "source": [
    "#Comprobamos que la función concuerda con los assert\n",
    "assert funcion_prot_aa(\"MSRSLLLRFLLFLLLLPPLP\", \"M\") == 5\n",
    "assert funcion_prot_aa(\"MSRSLLLRFLLFLLLLPPLP\", \"r\") == 10\n",
    "assert funcion_prot_aa(\"msrslllrfllfllllpplp\", \"L\") == 50\n",
    "assert funcion_prot_aa(\"MSRSLLLRFLLFLLLLPPLP\", \"Y\") == 0"
   ]
  }
 ],
 "metadata": {
  "kernelspec": {
   "display_name": "Python 3 (ipykernel)",
   "language": "python",
   "name": "python3"
  },
  "language_info": {
   "codemirror_mode": {
    "name": "ipython",
    "version": 3
   },
   "file_extension": ".py",
   "mimetype": "text/x-python",
   "name": "python",
   "nbconvert_exporter": "python",
   "pygments_lexer": "ipython3",
   "version": "3.11.5"
  }
 },
 "nbformat": 4,
 "nbformat_minor": 4
}
