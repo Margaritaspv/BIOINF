{
 "cells": [
  {
   "cell_type": "markdown",
   "id": "57e5a4ba",
   "metadata": {},
   "source": [
    "# PRACTICA Estructuras de Datos\n",
    "\n",
    "### Resuelve las siguientes preguntas empleando lo aprendido con las estructuras de Datos\n",
    "\n",
    "#### Esta práctica se entrega el día 22 de octubre a las 23:59\n",
    "#### Cuenta el 5% de la nota"
   ]
  },
  {
   "cell_type": "markdown",
   "id": "092831f1",
   "metadata": {},
   "source": [
    "Pon el código debajo de cada pregunta. Añade tantas celdas de código como necesites."
   ]
  },
  {
   "cell_type": "markdown",
   "id": "94b6abb8",
   "metadata": {},
   "source": [
    "#### 1.- Escribe una ecuación que emplee multiplicación, división, un exponente, suma y resta y que sea igual a 100.25."
   ]
  },
  {
   "cell_type": "code",
   "execution_count": 1,
   "id": "83423ac9",
   "metadata": {},
   "outputs": [
    {
     "data": {
      "text/plain": [
       "100.25"
      ]
     },
     "execution_count": 1,
     "metadata": {},
     "output_type": "execute_result"
    }
   ],
   "source": [
    "(10**2) + (50/2) - (25*0.75) -6"
   ]
  },
  {
   "cell_type": "markdown",
   "id": "95ec00dc",
   "metadata": {},
   "source": [
    "#### 2.- ¿Qué harías para obtener la raíz cuadrada de 100?"
   ]
  },
  {
   "cell_type": "code",
   "execution_count": 2,
   "id": "bc0163d7",
   "metadata": {},
   "outputs": [
    {
     "data": {
      "text/plain": [
       "10.0"
      ]
     },
     "execution_count": 2,
     "metadata": {},
     "output_type": "execute_result"
    }
   ],
   "source": [
    "100**0.5"
   ]
  },
  {
   "cell_type": "markdown",
   "id": "95232620",
   "metadata": {},
   "source": [
    "#### 3.- ¿Y el cuadrado de 100?"
   ]
  },
  {
   "cell_type": "code",
   "execution_count": 4,
   "id": "8c57ca47",
   "metadata": {},
   "outputs": [
    {
     "data": {
      "text/plain": [
       "10000"
      ]
     },
     "execution_count": 4,
     "metadata": {},
     "output_type": "execute_result"
    }
   ],
   "source": [
    "100**2"
   ]
  },
  {
   "cell_type": "markdown",
   "id": "7fc5bfae",
   "metadata": {},
   "source": [
    "#### 4.- Tenemos la string 'hello'.\n",
    "#### Primero devuelve la letra 'e'\n",
    "#### Luego dale la vuelta a la string \n",
    "#### Después usa dos métodos para devolver la letra 'o'"
   ]
  },
  {
   "cell_type": "code",
   "execution_count": 5,
   "id": "8ed6fa51",
   "metadata": {},
   "outputs": [
    {
     "data": {
      "text/plain": [
       "'e'"
      ]
     },
     "execution_count": 5,
     "metadata": {},
     "output_type": "execute_result"
    }
   ],
   "source": [
    "s = 'hello'\n",
    "s[1]"
   ]
  },
  {
   "cell_type": "code",
   "execution_count": 6,
   "id": "8501a956",
   "metadata": {},
   "outputs": [
    {
     "data": {
      "text/plain": [
       "'olleh'"
      ]
     },
     "execution_count": 6,
     "metadata": {},
     "output_type": "execute_result"
    }
   ],
   "source": [
    "s[::-1]"
   ]
  },
  {
   "cell_type": "code",
   "execution_count": 9,
   "id": "a6d0eb90",
   "metadata": {},
   "outputs": [
    {
     "data": {
      "text/plain": [
       "'o'"
      ]
     },
     "execution_count": 9,
     "metadata": {},
     "output_type": "execute_result"
    }
   ],
   "source": [
    "s = 'hello'\n",
    "s[-1]"
   ]
  },
  {
   "cell_type": "code",
   "execution_count": 10,
   "id": "64577a27",
   "metadata": {},
   "outputs": [
    {
     "data": {
      "text/plain": [
       "'o'"
      ]
     },
     "execution_count": 10,
     "metadata": {},
     "output_type": "execute_result"
    }
   ],
   "source": [
    "s = 'hello'\n",
    "s[4]"
   ]
  },
  {
   "cell_type": "markdown",
   "id": "0febc918",
   "metadata": {},
   "source": [
    "#### 5.- Crear una lista que contenga esto [0,0,0] de dos formas distintas"
   ]
  },
  {
   "cell_type": "code",
   "execution_count": 11,
   "id": "2bd51f36",
   "metadata": {},
   "outputs": [
    {
     "data": {
      "text/plain": [
       "[0, 0, 0]"
      ]
     },
     "execution_count": 11,
     "metadata": {},
     "output_type": "execute_result"
    }
   ],
   "source": [
    "lista = [0,0,0]\n",
    "lista"
   ]
  },
  {
   "cell_type": "code",
   "execution_count": 12,
   "id": "c882b8d8",
   "metadata": {},
   "outputs": [
    {
     "data": {
      "text/plain": [
       "[0, 0, 0]"
      ]
     },
     "execution_count": 12,
     "metadata": {},
     "output_type": "execute_result"
    }
   ],
   "source": [
    "lista2=[0]*3\n",
    "lista2"
   ]
  },
  {
   "cell_type": "markdown",
   "id": "80e1a951",
   "metadata": {},
   "source": [
    "#### 6.- Reasigna 'hello' en la lista a continuación para que diga 'goodbye'"
   ]
  },
  {
   "cell_type": "code",
   "execution_count": 13,
   "id": "20d1ebdf",
   "metadata": {},
   "outputs": [],
   "source": [
    "lista = [1,2,[3,4,'hello']]"
   ]
  },
  {
   "cell_type": "code",
   "execution_count": 14,
   "id": "6c35b0fc",
   "metadata": {},
   "outputs": [],
   "source": [
    "lista[2][2]='goodbye'"
   ]
  },
  {
   "cell_type": "code",
   "execution_count": 15,
   "id": "5991fb70",
   "metadata": {},
   "outputs": [
    {
     "data": {
      "text/plain": [
       "[1, 2, [3, 4, 'goodbye']]"
      ]
     },
     "execution_count": 15,
     "metadata": {},
     "output_type": "execute_result"
    }
   ],
   "source": [
    "lista"
   ]
  },
  {
   "cell_type": "markdown",
   "id": "77e38490",
   "metadata": {},
   "source": [
    "#### 7.- Ordena la siguiente lista"
   ]
  },
  {
   "cell_type": "code",
   "execution_count": 16,
   "id": "bc957d55",
   "metadata": {},
   "outputs": [],
   "source": [
    "listaSinOrdenar = [5,3,4,6,1]"
   ]
  },
  {
   "cell_type": "code",
   "execution_count": 17,
   "id": "b065940b",
   "metadata": {},
   "outputs": [
    {
     "data": {
      "text/plain": [
       "[1, 3, 4, 5, 6]"
      ]
     },
     "execution_count": 17,
     "metadata": {},
     "output_type": "execute_result"
    }
   ],
   "source": [
    "listaSinOrdenar.sort()\n",
    "listaSinOrdenar"
   ]
  },
  {
   "cell_type": "markdown",
   "id": "0cc790ac",
   "metadata": {},
   "source": [
    "#### 8.- En los siguientes diccionarios, extrae el valor de 'hello'"
   ]
  },
  {
   "cell_type": "code",
   "execution_count": 18,
   "id": "c390a0bb",
   "metadata": {},
   "outputs": [
    {
     "data": {
      "text/plain": [
       "'hello'"
      ]
     },
     "execution_count": 18,
     "metadata": {},
     "output_type": "execute_result"
    }
   ],
   "source": [
    "f = {'k1':{'k2':'hello'}}\n",
    "f['k1']['k2']"
   ]
  },
  {
   "cell_type": "code",
   "execution_count": 19,
   "id": "c0244e1f",
   "metadata": {},
   "outputs": [
    {
     "data": {
      "text/plain": [
       "'hello'"
      ]
     },
     "execution_count": 19,
     "metadata": {},
     "output_type": "execute_result"
    }
   ],
   "source": [
    "d = {'key1':'hello'}\n",
    "d['key1']"
   ]
  },
  {
   "cell_type": "code",
   "execution_count": 20,
   "id": "344d780b",
   "metadata": {},
   "outputs": [
    {
     "data": {
      "text/plain": [
       "['hello']"
      ]
     },
     "execution_count": 20,
     "metadata": {},
     "output_type": "execute_result"
    }
   ],
   "source": [
    "g = {'k1':[{'o1':['valor escondido',['hello']]}]}\n",
    "g['k1'][0]['o1'][1]"
   ]
  },
  {
   "cell_type": "code",
   "execution_count": 21,
   "id": "663f9ffd",
   "metadata": {},
   "outputs": [
    {
     "data": {
      "text/plain": [
       "'hello'"
      ]
     },
     "execution_count": 21,
     "metadata": {},
     "output_type": "execute_result"
    }
   ],
   "source": [
    "h = {'k1':[1,2,{'k2':['complicado',{'dificil':[1,2,['hello']]}]}]}\n",
    "h['k1'][2]['k2'][1]['dificil'][2][0]"
   ]
  },
  {
   "cell_type": "markdown",
   "id": "7692eea8",
   "metadata": {},
   "source": [
    "#### 9.- Crea una tupla"
   ]
  },
  {
   "cell_type": "code",
   "execution_count": 22,
   "id": "ebf8c41e",
   "metadata": {},
   "outputs": [
    {
     "data": {
      "text/plain": [
       "(1, 2, 3)"
      ]
     },
     "execution_count": 22,
     "metadata": {},
     "output_type": "execute_result"
    }
   ],
   "source": [
    "t = (1,2,3) #Diferencia con las listas: corchetes y son INMODIFICBALES.\n",
    "t"
   ]
  },
  {
   "cell_type": "markdown",
   "id": "6231d723",
   "metadata": {},
   "source": [
    "#### 10.- Emplea los sets para encontrar los valores únicos de esta lista"
   ]
  },
  {
   "cell_type": "code",
   "execution_count": 23,
   "id": "a7cbba3a",
   "metadata": {},
   "outputs": [
    {
     "data": {
      "text/plain": [
       "{1, 2, 3, 4, 11, 22, 33}"
      ]
     },
     "execution_count": 23,
     "metadata": {},
     "output_type": "execute_result"
    }
   ],
   "source": [
    "listaDuplicada = [1,2,2,33,4,4,11,22,3,3,2]\n",
    "miset=set (listaDuplicada)\n",
    "miset"
   ]
  },
  {
   "cell_type": "markdown",
   "id": "9b217cfc",
   "metadata": {},
   "source": [
    "#### 11.- Haz las siguientes comparaciones:\n",
    "#### Dos mayor que tres\n",
    "#### Tres igual que 2\n",
    "#### La raíz cuadrada de cuatro no es igual a 2"
   ]
  },
  {
   "cell_type": "code",
   "execution_count": 24,
   "id": "e048f2f6",
   "metadata": {},
   "outputs": [
    {
     "data": {
      "text/plain": [
       "False"
      ]
     },
     "execution_count": 24,
     "metadata": {},
     "output_type": "execute_result"
    }
   ],
   "source": [
    "2>3"
   ]
  },
  {
   "cell_type": "code",
   "execution_count": 25,
   "id": "15400a6c",
   "metadata": {},
   "outputs": [
    {
     "data": {
      "text/plain": [
       "False"
      ]
     },
     "execution_count": 25,
     "metadata": {},
     "output_type": "execute_result"
    }
   ],
   "source": [
    "3==2"
   ]
  },
  {
   "cell_type": "code",
   "execution_count": 26,
   "id": "8b8a5e24",
   "metadata": {},
   "outputs": [
    {
     "data": {
      "text/plain": [
       "False"
      ]
     },
     "execution_count": 26,
     "metadata": {},
     "output_type": "execute_result"
    }
   ],
   "source": [
    "4**0.5 != 2"
   ]
  }
 ],
 "metadata": {
  "kernelspec": {
   "display_name": "Python 3 (ipykernel)",
   "language": "python",
   "name": "python3"
  },
  "language_info": {
   "codemirror_mode": {
    "name": "ipython",
    "version": 3
   },
   "file_extension": ".py",
   "mimetype": "text/x-python",
   "name": "python",
   "nbconvert_exporter": "python",
   "pygments_lexer": "ipython3",
   "version": "3.11.5"
  }
 },
 "nbformat": 4,
 "nbformat_minor": 5
}
