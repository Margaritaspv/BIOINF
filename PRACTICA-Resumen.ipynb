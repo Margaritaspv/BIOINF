{
 "cells": [
  {
   "cell_type": "markdown",
   "id": "985e6f9b",
   "metadata": {},
   "source": [
    "# PRACTICA 6\n",
    "\n",
    "### ¡Con todo lo aprendido con Python, vamos a resolver unos ejercicios de Bioinformática!\n",
    "\n",
    "#### 1.- Concatena las cadenas ATGCC y TCCG"
   ]
  },
  {
   "cell_type": "code",
   "execution_count": 1,
   "id": "e00eca4b",
   "metadata": {},
   "outputs": [],
   "source": [
    "a=\"ATGCC\"\n",
    "b=\"TCCG\""
   ]
  },
  {
   "cell_type": "code",
   "execution_count": 2,
   "id": "bc1bf41b",
   "metadata": {},
   "outputs": [
    {
     "data": {
      "text/plain": [
       "'ATGCCTCCG'"
      ]
     },
     "execution_count": 2,
     "metadata": {},
     "output_type": "execute_result"
    }
   ],
   "source": [
    "a+b"
   ]
  },
  {
   "cell_type": "markdown",
   "id": "1f4b7708",
   "metadata": {},
   "source": [
    "#### 2.- ¿Cuál es la longitud de ATGCGAGT?"
   ]
  },
  {
   "cell_type": "code",
   "execution_count": 3,
   "id": "8f78cad8",
   "metadata": {},
   "outputs": [
    {
     "data": {
      "text/plain": [
       "8"
      ]
     },
     "execution_count": 3,
     "metadata": {},
     "output_type": "execute_result"
    }
   ],
   "source": [
    "dna=\"ATGCGAGT\"\n",
    "len (dna)"
   ]
  },
  {
   "cell_type": "markdown",
   "id": "6361c287",
   "metadata": {},
   "source": [
    "#### 3.- Con la cadena mgXDyTw, ponla en mayúsculas, luego en minúsculas. Extrae su longitud y divide la cadena por la letra \"g\""
   ]
  },
  {
   "cell_type": "code",
   "execution_count": 4,
   "id": "b69beca1",
   "metadata": {},
   "outputs": [
    {
     "data": {
      "text/plain": [
       "'MGXDYTW'"
      ]
     },
     "execution_count": 4,
     "metadata": {},
     "output_type": "execute_result"
    }
   ],
   "source": [
    "cadena=\"mgXDyTw\"\n",
    "cadena.upper ()"
   ]
  },
  {
   "cell_type": "code",
   "execution_count": 9,
   "id": "f1f39ba0",
   "metadata": {},
   "outputs": [
    {
     "data": {
      "text/plain": [
       "'mgxdytw'"
      ]
     },
     "execution_count": 9,
     "metadata": {},
     "output_type": "execute_result"
    }
   ],
   "source": [
    "cadena_min=cadena.lower()\n",
    "cadena_min"
   ]
  },
  {
   "cell_type": "code",
   "execution_count": 10,
   "id": "0ac897c5",
   "metadata": {},
   "outputs": [
    {
     "data": {
      "text/plain": [
       "7"
      ]
     },
     "execution_count": 10,
     "metadata": {},
     "output_type": "execute_result"
    }
   ],
   "source": [
    "len(cadena)"
   ]
  },
  {
   "cell_type": "code",
   "execution_count": 11,
   "id": "bed70513",
   "metadata": {},
   "outputs": [
    {
     "data": {
      "text/plain": [
       "['m', 'xdytw']"
      ]
     },
     "execution_count": 11,
     "metadata": {},
     "output_type": "execute_result"
    }
   ],
   "source": [
    "cadena_min.split (\"g\")"
   ]
  },
  {
   "cell_type": "markdown",
   "id": "91c2ca9d",
   "metadata": {},
   "source": [
    "#### 4.- Con la secuencia de aminoácidos vlspadktnv, reemplaza la valina con la tirosina. Pista: usa replace()"
   ]
  },
  {
   "cell_type": "code",
   "execution_count": 12,
   "id": "a049ecdd",
   "metadata": {},
   "outputs": [
    {
     "data": {
      "text/plain": [
       "'ylspadktny'"
      ]
     },
     "execution_count": 12,
     "metadata": {},
     "output_type": "execute_result"
    }
   ],
   "source": [
    "aa = \"vlspadktnv\"\n",
    "\n",
    "aa_replace = aa.replace(\"v\",\"y\")\n",
    "aa_replace"
   ]
  },
  {
   "cell_type": "markdown",
   "id": "97f9ecd6",
   "metadata": {},
   "source": [
    "#### 5.- Cuenta las valinas de la secuencia original anterior."
   ]
  },
  {
   "cell_type": "code",
   "execution_count": 13,
   "id": "5a0beecf",
   "metadata": {},
   "outputs": [
    {
     "name": "stdout",
     "output_type": "stream",
     "text": [
      "valines:¨2\n"
     ]
    }
   ],
   "source": [
    "valines=aa.count(\"v\")\n",
    "print (f'valines:¨{valines}') \n",
    "#Lo ponemos así para incluir el nombre de la variable en el resultado."
   ]
  },
  {
   "cell_type": "markdown",
   "id": "6aac8e24",
   "metadata": {},
   "source": [
    "#### 6.- Con el diccionario siguiente imprime el valor de BisI y saca el valor de EcoRI con pop(). ¿Qué pasa con el diccionario?"
   ]
  },
  {
   "cell_type": "code",
   "execution_count": 19,
   "id": "c0c811d7",
   "metadata": {},
   "outputs": [],
   "source": [
    "enzR = {\n",
    "    'EcoRI':r'GAATTC',\n",
    "    'AvaII':r'GG(A|T)CC',\n",
    "    'BisI':r'GC[ATGC]GC'\n",
    "}"
   ]
  },
  {
   "cell_type": "code",
   "execution_count": 20,
   "id": "89c89d6f",
   "metadata": {},
   "outputs": [
    {
     "data": {
      "text/plain": [
       "'GC[ATGC]GC'"
      ]
     },
     "execution_count": 20,
     "metadata": {},
     "output_type": "execute_result"
    }
   ],
   "source": [
    "enzR['BisI']"
   ]
  },
  {
   "cell_type": "code",
   "execution_count": 21,
   "id": "3ef91152",
   "metadata": {},
   "outputs": [
    {
     "data": {
      "text/plain": [
       "'GAATTC'"
      ]
     },
     "execution_count": 21,
     "metadata": {},
     "output_type": "execute_result"
    }
   ],
   "source": [
    "enzR.pop('EcoRI')"
   ]
  },
  {
   "cell_type": "markdown",
   "id": "4646bddd",
   "metadata": {},
   "source": [
    "#### 7.- Con la secuencia y la lista siguiente, escribe un algoritmo que cuente el número de veces que aparece un elemento de la lista en la secuencia. Pista: hacer un diccionario para almacenar los resultados puede ser buena idea"
   ]
  },
  {
   "cell_type": "code",
   "execution_count": 22,
   "id": "0a701a5e",
   "metadata": {},
   "outputs": [],
   "source": [
    "dna = \"AATGATGAACGAC\" \n",
    "dinucleotides = ['AA','AT','AG','AC', \n",
    "                 'TA','TT','TG','TC', \n",
    "                 'GA','GT','GG','GC', \n",
    "                 'CA','CT','CG','CT'] \n",
    "\n"
   ]
  },
  {
   "cell_type": "code",
   "execution_count": 23,
   "id": "c1a39fe0",
   "metadata": {},
   "outputs": [
    {
     "data": {
      "text/plain": [
       "{'AA': 2,\n",
       " 'AT': 2,\n",
       " 'AG': 0,\n",
       " 'AC': 2,\n",
       " 'TA': 0,\n",
       " 'TT': 0,\n",
       " 'TG': 2,\n",
       " 'TC': 0,\n",
       " 'GA': 3,\n",
       " 'GT': 0,\n",
       " 'GG': 0,\n",
       " 'GC': 0,\n",
       " 'CA': 0,\n",
       " 'CT': 0,\n",
       " 'CG': 1}"
      ]
     },
     "execution_count": 23,
     "metadata": {},
     "output_type": "execute_result"
    }
   ],
   "source": [
    "dict_dnt={} \n",
    "for dnt in dinucleotides:\n",
    "    conteo=dna.count(dnt)    \n",
    "    dict_dnt[dnt]=conteo\n",
    "dict_dnt\n",
    "#Creamos un diccionario vacio, contamos los dinucleotidos que hay (conteo), \n",
    "#metemos los dinucleotidos contados en el diccionario."
   ]
  },
  {
   "cell_type": "markdown",
   "id": "a44b5e4c",
   "metadata": {},
   "source": [
    "##### ¿Cuántos counts tiene TC?"
   ]
  },
  {
   "cell_type": "code",
   "execution_count": 24,
   "id": "74cea684",
   "metadata": {},
   "outputs": [
    {
     "data": {
      "text/plain": [
       "0"
      ]
     },
     "execution_count": 24,
     "metadata": {},
     "output_type": "execute_result"
    }
   ],
   "source": [
    "dict_dnt['TC']"
   ]
  },
  {
   "cell_type": "code",
   "execution_count": 26,
   "id": "afedfbf0",
   "metadata": {},
   "outputs": [
    {
     "data": {
      "text/plain": [
       "0"
      ]
     },
     "execution_count": 26,
     "metadata": {},
     "output_type": "execute_result"
    }
   ],
   "source": [
    "#Otra forma\n",
    "dict_dnt.get('TC')"
   ]
  },
  {
   "cell_type": "markdown",
   "id": "70245f18",
   "metadata": {},
   "source": [
    "##### ¿Puedes imprimir los dinuleótidos que tengan counts igual a 2?"
   ]
  },
  {
   "cell_type": "code",
   "execution_count": 27,
   "id": "72ee631f",
   "metadata": {},
   "outputs": [
    {
     "name": "stdout",
     "output_type": "stream",
     "text": [
      "AA\n",
      "AC\n",
      "AT\n",
      "TG\n"
     ]
    }
   ],
   "source": [
    "for i in sorted(dict_dnt.keys()):\n",
    "    if dict_dnt[i]==2:\n",
    "        print (i)"
   ]
  },
  {
   "cell_type": "code",
   "execution_count": 28,
   "id": "7177dd5b",
   "metadata": {},
   "outputs": [
    {
     "name": "stdout",
     "output_type": "stream",
     "text": [
      "La key AA tiene el valor2\n",
      "La key AT tiene el valor2\n",
      "La key AC tiene el valor2\n",
      "La key TG tiene el valor2\n"
     ]
    }
   ],
   "source": [
    "#otra forma\n",
    "for key in dict_dnt.keys():\n",
    "    valor=dict_dnt[key]\n",
    "    if valor==2:\n",
    "        print(f'La key {key} tiene el valor{valor}')"
   ]
  },
  {
   "cell_type": "markdown",
   "id": "28748e51",
   "metadata": {},
   "source": [
    "##### 8.- Abre el fichero dna.txt, guarda una lista del contenido del archivo. Devuelve su longitud y su primer caracter"
   ]
  },
  {
   "cell_type": "code",
   "execution_count": 29,
   "id": "2d430f33",
   "metadata": {},
   "outputs": [
    {
     "data": {
      "text/plain": [
       "['ATCGATCGATCGATCGACTGACTAGTCATAGCTATGCATGTAGCTACTCGATCGATCGATCGATCGATCGATCGATCGATCGATCATGCTATCATCGATCGATATCGATGCATCGACTACTAT']"
      ]
     },
     "execution_count": 29,
     "metadata": {},
     "output_type": "execute_result"
    }
   ],
   "source": [
    "file=open(\"dna.txt\")\n",
    "all_lines = file.readlines()\n",
    "file.close()\n",
    "all_lines"
   ]
  },
  {
   "cell_type": "code",
   "execution_count": 30,
   "id": "6d75bc7a",
   "metadata": {},
   "outputs": [
    {
     "data": {
      "text/plain": [
       "123"
      ]
     },
     "execution_count": 30,
     "metadata": {},
     "output_type": "execute_result"
    }
   ],
   "source": [
    "len(all_lines[0])"
   ]
  },
  {
   "cell_type": "code",
   "execution_count": 31,
   "id": "8108879b",
   "metadata": {},
   "outputs": [
    {
     "data": {
      "text/plain": [
       "'ATCGATCGATCGATCGACTGACTAGTCATAGCTATGCATGTAGCTACTCGATCGATCGATCGATCGATCGATCGATCGATCGATCATGCTATCATCGATCGATATCGATGCATCGACTACTAT'"
      ]
     },
     "execution_count": 31,
     "metadata": {},
     "output_type": "execute_result"
    }
   ],
   "source": [
    "cadena_dna=all_lines[0]\n",
    "cadena_dna"
   ]
  },
  {
   "cell_type": "code",
   "execution_count": 32,
   "id": "b9187dbf",
   "metadata": {},
   "outputs": [
    {
     "data": {
      "text/plain": [
       "'A'"
      ]
     },
     "execution_count": 32,
     "metadata": {},
     "output_type": "execute_result"
    }
   ],
   "source": [
    "cadena_dna [0]"
   ]
  },
  {
   "cell_type": "markdown",
   "id": "9b87396a",
   "metadata": {},
   "source": [
    "##### 9.- Crea dos archivos. Uno almacena los accession que empiezen por 'a' y el otro el resto"
   ]
  },
  {
   "cell_type": "code",
   "execution_count": 33,
   "id": "73957856",
   "metadata": {},
   "outputs": [],
   "source": [
    "accs = ['ab56', 'bh84', 'hv76', 'ay93', 'ap97', 'bd72']"
   ]
  },
  {
   "cell_type": "code",
   "execution_count": 103,
   "id": "a3d4104b",
   "metadata": {},
   "outputs": [],
   "source": [
    "file1=open(\"acc_a.text\",\"w\")\n",
    "file2=open(\"acc_resto.txt\",\"w\")"
   ]
  },
  {
   "cell_type": "code",
   "execution_count": 104,
   "id": "78bdb2b8",
   "metadata": {},
   "outputs": [],
   "source": [
    "for acc in accs:\n",
    "    if acc.startswith(\"a\"): \n",
    "        file1.write(acc + \"\\n\")\n",
    "    else:\n",
    "        file2.write(acc + \"\\n\")\n",
    "        #print(acc)"
   ]
  },
  {
   "cell_type": "markdown",
   "id": "9cbb4adf",
   "metadata": {},
   "source": [
    "##### 10.- Imprime solamente los accessions de la lista anterior que empiecen por 'a' y no acaben con '6'. Pista: usa endswith() y startswidth()"
   ]
  },
  {
   "cell_type": "code",
   "execution_count": 107,
   "id": "2465a22c",
   "metadata": {},
   "outputs": [
    {
     "name": "stdout",
     "output_type": "stream",
     "text": [
      "ay93\n",
      "ap97\n"
     ]
    }
   ],
   "source": [
    "for acc in accs:\n",
    "    if acc.startswith(\"a\") and not acc.endswith(\"6\"):\n",
    "        print(acc)"
   ]
  },
  {
   "cell_type": "markdown",
   "id": "42c397b0",
   "metadata": {},
   "source": [
    "##### 11.- Escribe una función que cuente el porcentaje de AT de una secuencia"
   ]
  },
  {
   "cell_type": "code",
   "execution_count": 34,
   "id": "06f579c2",
   "metadata": {},
   "outputs": [],
   "source": [
    "#Lo hacemos con 1 decimal\n",
    "def get_at_percentage(secuencia):\n",
    "    length=len(secuencia)\n",
    "    num_a=secuencia.count(\"A\")\n",
    "    num_t=secuencia.count(\"T\")\n",
    "    num_at=num_a+num_t\n",
    "    porcentaje=(num_at/length)*100\n",
    "    return round(porcentaje,1)\n",
    "    "
   ]
  },
  {
   "cell_type": "code",
   "execution_count": 35,
   "id": "28e39fb1",
   "metadata": {},
   "outputs": [
    {
     "data": {
      "text/plain": [
       "61.5"
      ]
     },
     "execution_count": 35,
     "metadata": {},
     "output_type": "execute_result"
    }
   ],
   "source": [
    "get_at_percentage(dna)"
   ]
  },
  {
   "cell_type": "markdown",
   "id": "054b8f51",
   "metadata": {},
   "source": [
    "##### ¿Puedes hacer que devuelva dos decimales? ¿Y que lidie con mayúsculas y minúsculas?"
   ]
  },
  {
   "cell_type": "code",
   "execution_count": null,
   "id": "8f81e89e",
   "metadata": {},
   "outputs": [],
   "source": []
  },
  {
   "cell_type": "markdown",
   "id": "36a03b5f",
   "metadata": {},
   "source": [
    "##### ¿Y que devuelva el número de decimales que yo quiero?"
   ]
  },
  {
   "cell_type": "code",
   "execution_count": null,
   "id": "8e895533",
   "metadata": {},
   "outputs": [],
   "source": []
  },
  {
   "cell_type": "markdown",
   "id": "2c811d84",
   "metadata": {},
   "source": [
    "##### ¿Sabes poner un valor por defecto en un argumento?"
   ]
  },
  {
   "cell_type": "code",
   "execution_count": null,
   "id": "e29ec064",
   "metadata": {},
   "outputs": [],
   "source": []
  },
  {
   "cell_type": "markdown",
   "id": "ab2c106c",
   "metadata": {},
   "source": [
    "##### ¿Qué pasa si no ponemos un argumento? ¿Sabrías hacer una función encapsulada?"
   ]
  },
  {
   "cell_type": "code",
   "execution_count": null,
   "id": "2ff9001a",
   "metadata": {},
   "outputs": [],
   "source": []
  },
  {
   "cell_type": "markdown",
   "id": "83af4b0f",
   "metadata": {},
   "source": [
    "##### Testea tu función original con assert"
   ]
  },
  {
   "cell_type": "code",
   "execution_count": 37,
   "id": "4709dfd0",
   "metadata": {},
   "outputs": [],
   "source": [
    "assert get_at_percentage(\"ATGC\") ==50.0"
   ]
  }
 ],
 "metadata": {
  "kernelspec": {
   "display_name": "Python 3 (ipykernel)",
   "language": "python",
   "name": "python3"
  },
  "language_info": {
   "codemirror_mode": {
    "name": "ipython",
    "version": 3
   },
   "file_extension": ".py",
   "mimetype": "text/x-python",
   "name": "python",
   "nbconvert_exporter": "python",
   "pygments_lexer": "ipython3",
   "version": "3.11.5"
  }
 },
 "nbformat": 4,
 "nbformat_minor": 5
}
